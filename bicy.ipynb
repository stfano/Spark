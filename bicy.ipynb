{
 "cells": [
  {
   "cell_type": "code",
   "execution_count": 1,
   "id": "4439b44f-d81b-43ea-ba6c-13cb38db53d2",
   "metadata": {
    "scrolled": true
   },
   "outputs": [
    {
     "data": {
      "text/html": [
       "\n",
       "            <div>\n",
       "                <p><b>SparkSession - hive</b></p>\n",
       "                \n",
       "        <div>\n",
       "            <p><b>SparkContext</b></p>\n",
       "\n",
       "            <p><a href=\"http://client:4040\">Spark UI</a></p>\n",
       "\n",
       "            <dl>\n",
       "              <dt>Version</dt>\n",
       "                <dd><code>v3.3.4</code></dd>\n",
       "              <dt>Master</dt>\n",
       "                <dd><code>yarn</code></dd>\n",
       "              <dt>AppName</dt>\n",
       "                <dd><code>PySparkShell</code></dd>\n",
       "            </dl>\n",
       "        </div>\n",
       "        \n",
       "            </div>\n",
       "        "
      ],
      "text/plain": [
       "<pyspark.sql.session.SparkSession at 0x7f5056994310>"
      ]
     },
     "execution_count": 1,
     "metadata": {},
     "output_type": "execute_result"
    }
   ],
   "source": [
    "spark"
   ]
  },
  {
   "cell_type": "code",
   "execution_count": 2,
   "id": "d5df501f-f8c3-45b4-82e6-c1e4773a79d6",
   "metadata": {},
   "outputs": [],
   "source": [
    "import pandas as pd"
   ]
  },
  {
   "cell_type": "code",
   "execution_count": 4,
   "id": "d6ac76a7-9eec-41f2-abfe-6194c5ccce98",
   "metadata": {},
   "outputs": [
    {
     "name": "stderr",
     "output_type": "stream",
     "text": [
      "                                                                                \r"
     ]
    }
   ],
   "source": [
    "df = spark.read.csv(\"/data/bicy/*\", encoding='cp949', inferSchema = True, header=True)"
   ]
  },
  {
   "cell_type": "code",
   "execution_count": 5,
   "id": "6d92ecaf-659b-472e-910e-38d78e386c4e",
   "metadata": {},
   "outputs": [
    {
     "name": "stderr",
     "output_type": "stream",
     "text": [
      "                                                                                \r"
     ]
    },
    {
     "data": {
      "text/plain": [
       "22334740"
      ]
     },
     "execution_count": 5,
     "metadata": {},
     "output_type": "execute_result"
    }
   ],
   "source": [
    "df.count()"
   ]
  },
  {
   "cell_type": "code",
   "execution_count": 6,
   "id": "5b3d070b-be0c-42c3-87ac-c8b90790774e",
   "metadata": {},
   "outputs": [
    {
     "name": "stdout",
     "output_type": "stream",
     "text": [
      "root\n",
      " |-- 자전거번호: string (nullable = true)\n",
      " |-- 대여일시: timestamp (nullable = true)\n",
      " |-- 대여 대여소번호: integer (nullable = true)\n",
      " |-- 대여 대여소명: string (nullable = true)\n",
      " |-- 대여거치대: integer (nullable = true)\n",
      " |-- 반납일시: timestamp (nullable = true)\n",
      " |-- 반납대여소번호: string (nullable = true)\n",
      " |-- 반납대여소명: string (nullable = true)\n",
      " |-- 반납거치대: string (nullable = true)\n",
      " |-- 이용시간(분): integer (nullable = true)\n",
      " |-- 이용거리(M): double (nullable = true)\n",
      " |-- 생년: string (nullable = true)\n",
      " |-- 성별: string (nullable = true)\n",
      " |-- 이용자종류: string (nullable = true)\n",
      " |-- 대여대여소ID: string (nullable = true)\n",
      " |-- 반납대여소ID: string (nullable = true)\n",
      "\n"
     ]
    }
   ],
   "source": [
    "df.printSchema()"
   ]
  },
  {
   "cell_type": "code",
   "execution_count": 7,
   "id": "d042dcba-1df9-4151-8fae-ce8eb5ea21f6",
   "metadata": {},
   "outputs": [
    {
     "data": {
      "text/plain": [
       "Row(자전거번호='SPB-39194', 대여일시=datetime.datetime(2023, 1, 1, 0, 2, 13), 대여 대여소번호=1554, 대여 대여소명='번동사거리', 대여거치대=0, 반납일시=datetime.datetime(2023, 1, 1, 0, 2, 43), 반납대여소번호='01554', 반납대여소명='번동사거리', 반납거치대='0', 이용시간(분)=0, 이용거리(M)=0.0, 생년='1977', 성별='₩N', 이용자종류='내국인', 대여대여소ID='ST-2127', 반납대여소ID='ST-2127')"
      ]
     },
     "execution_count": 7,
     "metadata": {},
     "output_type": "execute_result"
    }
   ],
   "source": [
    "df.first()"
   ]
  },
  {
   "cell_type": "code",
   "execution_count": 10,
   "id": "bffa012b-0f36-4f21-81f3-1121fc4c4c4d",
   "metadata": {
    "scrolled": true
   },
   "outputs": [
    {
     "name": "stdout",
     "output_type": "stream",
     "text": [
      "+----------+----+\n",
      "|자전거번호|성별|\n",
      "+----------+----+\n",
      "| SPB-39194|  ₩N|\n",
      "| SPB-43457|  ₩N|\n",
      "| SPB-44383|   M|\n",
      "| SPB-37186|   M|\n",
      "| SPB-59440|   M|\n",
      "| SPB-35099|   M|\n",
      "| SPB-58162|  ₩N|\n",
      "| SPB-48823|  ₩N|\n",
      "| SPB-59358|   M|\n",
      "| SPB-51038|   M|\n",
      "| SPB-64954|   M|\n",
      "| SPB-59872|  ₩N|\n",
      "| SPB-58084|  ₩N|\n",
      "| SPB-53276|  ₩N|\n",
      "| SPB-31838|  ₩N|\n",
      "| SPB-33542|   M|\n",
      "| SPB-34326|   F|\n",
      "| SPB-60653|  ₩N|\n",
      "| SPB-33248|   F|\n",
      "| SPB-42593|   M|\n",
      "+----------+----+\n",
      "only showing top 20 rows\n",
      "\n"
     ]
    }
   ],
   "source": [
    "from pyspark.sql.functions import *\n",
    "df.select(col(\"자전거번호\"), col(\"성별\")).show()"
   ]
  },
  {
   "cell_type": "code",
   "execution_count": 14,
   "id": "16520b26-e766-42cf-af9a-7e7d9af91674",
   "metadata": {
    "scrolled": true
   },
   "outputs": [
    {
     "data": {
      "text/plain": [
       "[Row(bicycle_num='자전거번호'), Row(bicycle_num='자전거번호'), Row(bicycle_num='자전거번호')]"
      ]
     },
     "execution_count": 14,
     "metadata": {},
     "output_type": "execute_result"
    }
   ],
   "source": [
    "df.select(expr(\" '자전거번호' as bicycle_num \")).head(3)"
   ]
  },
  {
   "cell_type": "code",
   "execution_count": 15,
   "id": "4627de79-8248-4416-83fc-d0ea008ace93",
   "metadata": {
    "scrolled": true
   },
   "outputs": [
    {
     "ename": "ParseException",
     "evalue": "\nSyntax error at or near ''자전거'': extra input ''자전거''(line 1, pos 25)\n\n== SQL ==\n('자전거번호' = SPB-39194) as '자전거'\n-------------------------^^^\n",
     "output_type": "error",
     "traceback": [
      "\u001b[0;31m---------------------------------------------------------------------------\u001b[0m",
      "\u001b[0;31mParseException\u001b[0m                            Traceback (most recent call last)",
      "Cell \u001b[0;32mIn[15], line 1\u001b[0m\n\u001b[0;32m----> 1\u001b[0m df\u001b[38;5;241m.\u001b[39mselect(\u001b[38;5;124m'\u001b[39m\u001b[38;5;124m*\u001b[39m\u001b[38;5;124m'\u001b[39m, \u001b[43mexpr\u001b[49m\u001b[43m(\u001b[49m\u001b[38;5;124;43m\"\u001b[39;49m\u001b[38;5;124;43m(\u001b[39;49m\u001b[38;5;124;43m'\u001b[39;49m\u001b[38;5;124;43m자전거번호\u001b[39;49m\u001b[38;5;124;43m'\u001b[39;49m\u001b[38;5;124;43m = SPB-39194) as \u001b[39;49m\u001b[38;5;124;43m'\u001b[39;49m\u001b[38;5;124;43m자전거\u001b[39;49m\u001b[38;5;124;43m'\u001b[39;49m\u001b[38;5;124;43m\"\u001b[39;49m\u001b[43m)\u001b[49m)\u001b[38;5;241m.\u001b[39mshow()\n",
      "File \u001b[0;32m~/spark/python/pyspark/sql/functions.py:1628\u001b[0m, in \u001b[0;36mexpr\u001b[0;34m(str)\u001b[0m\n\u001b[1;32m   1618\u001b[0m \u001b[38;5;28;01mdef\u001b[39;00m \u001b[38;5;21mexpr\u001b[39m(\u001b[38;5;28mstr\u001b[39m: \u001b[38;5;28mstr\u001b[39m) \u001b[38;5;241m-\u001b[39m\u001b[38;5;241m>\u001b[39m Column:\n\u001b[1;32m   1619\u001b[0m \u001b[38;5;250m    \u001b[39m\u001b[38;5;124;03m\"\"\"Parses the expression string into the column that it represents\u001b[39;00m\n\u001b[1;32m   1620\u001b[0m \n\u001b[1;32m   1621\u001b[0m \u001b[38;5;124;03m    .. versionadded:: 1.5.0\u001b[39;00m\n\u001b[0;32m   (...)\u001b[0m\n\u001b[1;32m   1626\u001b[0m \u001b[38;5;124;03m    [Row(length(name)=5), Row(length(name)=3)]\u001b[39;00m\n\u001b[1;32m   1627\u001b[0m \u001b[38;5;124;03m    \"\"\"\u001b[39;00m\n\u001b[0;32m-> 1628\u001b[0m     \u001b[38;5;28;01mreturn\u001b[39;00m \u001b[43m_invoke_function\u001b[49m\u001b[43m(\u001b[49m\u001b[38;5;124;43m\"\u001b[39;49m\u001b[38;5;124;43mexpr\u001b[39;49m\u001b[38;5;124;43m\"\u001b[39;49m\u001b[43m,\u001b[49m\u001b[43m \u001b[49m\u001b[38;5;28;43mstr\u001b[39;49m\u001b[43m)\u001b[49m\n",
      "File \u001b[0;32m~/spark/python/pyspark/sql/functions.py:85\u001b[0m, in \u001b[0;36m_invoke_function\u001b[0;34m(name, *args)\u001b[0m\n\u001b[1;32m     83\u001b[0m \u001b[38;5;28;01massert\u001b[39;00m SparkContext\u001b[38;5;241m.\u001b[39m_active_spark_context \u001b[38;5;129;01mis\u001b[39;00m \u001b[38;5;129;01mnot\u001b[39;00m \u001b[38;5;28;01mNone\u001b[39;00m\n\u001b[1;32m     84\u001b[0m jf \u001b[38;5;241m=\u001b[39m _get_jvm_function(name, SparkContext\u001b[38;5;241m.\u001b[39m_active_spark_context)\n\u001b[0;32m---> 85\u001b[0m \u001b[38;5;28;01mreturn\u001b[39;00m Column(\u001b[43mjf\u001b[49m\u001b[43m(\u001b[49m\u001b[38;5;241;43m*\u001b[39;49m\u001b[43margs\u001b[49m\u001b[43m)\u001b[49m)\n",
      "File \u001b[0;32m~/spark/python/lib/py4j-0.10.9.5-src.zip/py4j/java_gateway.py:1321\u001b[0m, in \u001b[0;36mJavaMember.__call__\u001b[0;34m(self, *args)\u001b[0m\n\u001b[1;32m   1315\u001b[0m command \u001b[38;5;241m=\u001b[39m proto\u001b[38;5;241m.\u001b[39mCALL_COMMAND_NAME \u001b[38;5;241m+\u001b[39m\\\n\u001b[1;32m   1316\u001b[0m     \u001b[38;5;28mself\u001b[39m\u001b[38;5;241m.\u001b[39mcommand_header \u001b[38;5;241m+\u001b[39m\\\n\u001b[1;32m   1317\u001b[0m     args_command \u001b[38;5;241m+\u001b[39m\\\n\u001b[1;32m   1318\u001b[0m     proto\u001b[38;5;241m.\u001b[39mEND_COMMAND_PART\n\u001b[1;32m   1320\u001b[0m answer \u001b[38;5;241m=\u001b[39m \u001b[38;5;28mself\u001b[39m\u001b[38;5;241m.\u001b[39mgateway_client\u001b[38;5;241m.\u001b[39msend_command(command)\n\u001b[0;32m-> 1321\u001b[0m return_value \u001b[38;5;241m=\u001b[39m \u001b[43mget_return_value\u001b[49m\u001b[43m(\u001b[49m\n\u001b[1;32m   1322\u001b[0m \u001b[43m    \u001b[49m\u001b[43manswer\u001b[49m\u001b[43m,\u001b[49m\u001b[43m \u001b[49m\u001b[38;5;28;43mself\u001b[39;49m\u001b[38;5;241;43m.\u001b[39;49m\u001b[43mgateway_client\u001b[49m\u001b[43m,\u001b[49m\u001b[43m \u001b[49m\u001b[38;5;28;43mself\u001b[39;49m\u001b[38;5;241;43m.\u001b[39;49m\u001b[43mtarget_id\u001b[49m\u001b[43m,\u001b[49m\u001b[43m \u001b[49m\u001b[38;5;28;43mself\u001b[39;49m\u001b[38;5;241;43m.\u001b[39;49m\u001b[43mname\u001b[49m\u001b[43m)\u001b[49m\n\u001b[1;32m   1324\u001b[0m \u001b[38;5;28;01mfor\u001b[39;00m temp_arg \u001b[38;5;129;01min\u001b[39;00m temp_args:\n\u001b[1;32m   1325\u001b[0m     temp_arg\u001b[38;5;241m.\u001b[39m_detach()\n",
      "File \u001b[0;32m~/spark/python/pyspark/sql/utils.py:196\u001b[0m, in \u001b[0;36mcapture_sql_exception.<locals>.deco\u001b[0;34m(*a, **kw)\u001b[0m\n\u001b[1;32m    192\u001b[0m converted \u001b[38;5;241m=\u001b[39m convert_exception(e\u001b[38;5;241m.\u001b[39mjava_exception)\n\u001b[1;32m    193\u001b[0m \u001b[38;5;28;01mif\u001b[39;00m \u001b[38;5;129;01mnot\u001b[39;00m \u001b[38;5;28misinstance\u001b[39m(converted, UnknownException):\n\u001b[1;32m    194\u001b[0m     \u001b[38;5;66;03m# Hide where the exception came from that shows a non-Pythonic\u001b[39;00m\n\u001b[1;32m    195\u001b[0m     \u001b[38;5;66;03m# JVM exception message.\u001b[39;00m\n\u001b[0;32m--> 196\u001b[0m     \u001b[38;5;28;01mraise\u001b[39;00m converted \u001b[38;5;28;01mfrom\u001b[39;00m \u001b[38;5;28;01mNone\u001b[39;00m\n\u001b[1;32m    197\u001b[0m \u001b[38;5;28;01melse\u001b[39;00m:\n\u001b[1;32m    198\u001b[0m     \u001b[38;5;28;01mraise\u001b[39;00m\n",
      "\u001b[0;31mParseException\u001b[0m: \nSyntax error at or near ''자전거'': extra input ''자전거''(line 1, pos 25)\n\n== SQL ==\n('자전거번호' = SPB-39194) as '자전거'\n-------------------------^^^\n"
     ]
    }
   ],
   "source": [
    "df.select('*', expr(\"('자전거번호' = SPB-39194) as '자전거'\")).show()"
   ]
  },
  {
   "cell_type": "code",
   "execution_count": 16,
   "id": "ca50f538-81b5-417c-aa78-24de82a46166",
   "metadata": {},
   "outputs": [],
   "source": [
    "df2 = df.select([count(when(col(c).contains('None') | \\\n",
    "                            col(c).contains('NULL') | \\\n",
    "                            (col(c) == '' ) | \\\n",
    "                            col(c).isNull(), c \n",
    "                           )).alias(c)\n",
    "                    for c in df.columns])\n"
   ]
  },
  {
   "cell_type": "code",
   "execution_count": 17,
   "id": "ae6a0ad5-511e-460d-a7a8-e58764e31dae",
   "metadata": {},
   "outputs": [
    {
     "name": "stderr",
     "output_type": "stream",
     "text": [
      "                                                                                \r"
     ]
    },
    {
     "name": "stdout",
     "output_type": "stream",
     "text": [
      "+----------+--------+---------------+-------------+----------+--------+--------------+------------+----------+------------+-----------+----+------+----------+------------+------------+\n",
      "|자전거번호|대여일시|대여 대여소번호|대여 대여소명|대여거치대|반납일시|반납대여소번호|반납대여소명|반납거치대|이용시간(분)|이용거리(M)|생년|  성별|이용자종류|대여대여소ID|반납대여소ID|\n",
      "+----------+--------+---------------+-------------+----------+--------+--------------+------------+----------+------------+-----------+----+------+----------+------------+------------+\n",
      "|         0|       0|              0|            0|         0|       0|             0|           0|         0|           0|          0|   1|695267|         0|           0|           0|\n",
      "+----------+--------+---------------+-------------+----------+--------+--------------+------------+----------+------------+-----------+----+------+----------+------------+------------+\n",
      "\n"
     ]
    }
   ],
   "source": [
    "df2.show()"
   ]
  },
  {
   "cell_type": "code",
   "execution_count": 18,
   "id": "17e9431c-7f56-4b2b-bfb0-7fbbb3750807",
   "metadata": {},
   "outputs": [
    {
     "name": "stderr",
     "output_type": "stream",
     "text": [
      "                                                                                \r"
     ]
    },
    {
     "name": "stdout",
     "output_type": "stream",
     "text": [
      "+----+-------+\n",
      "|성별|     값|\n",
      "+----+-------+\n",
      "|   F|5917315|\n",
      "|   m|   3295|\n",
      "|null|      0|\n",
      "|   f|   1265|\n",
      "|   M|9392045|\n",
      "|  ₩N|6325553|\n",
      "+----+-------+\n",
      "\n"
     ]
    }
   ],
   "source": [
    "df.groupby(\"성별\").agg( count(\"성별\").alias(\"값\")).show()"
   ]
  },
  {
   "cell_type": "code",
   "execution_count": 19,
   "id": "b5dd752a-ea44-41ef-a6f1-0e5b280a0ea2",
   "metadata": {},
   "outputs": [
    {
     "name": "stderr",
     "output_type": "stream",
     "text": [
      "                                                                                \r"
     ]
    },
    {
     "name": "stdout",
     "output_type": "stream",
     "text": [
      "+----+------------------+\n",
      "|성별|                값|\n",
      "+----+------------------+\n",
      "|   F| 22.06580653556554|\n",
      "|   m|17.090136570561455|\n",
      "|null|20.063203057242756|\n",
      "|   f|16.621343873517787|\n",
      "|   M| 20.02762561295224|\n",
      "|  ₩N| 21.02134548552514|\n",
      "+----+------------------+\n",
      "\n"
     ]
    }
   ],
   "source": [
    "df.groupby(\"성별\").agg( avg(\"이용시간(분)\").alias(\"값\")).show()"
   ]
  },
  {
   "cell_type": "code",
   "execution_count": null,
   "id": "7cd39748-302a-4855-9590-d9d7b7cf245a",
   "metadata": {},
   "outputs": [],
   "source": [
    "df.withColumn(\"numberOne\", lit(1)).show(2)"
   ]
  },
  {
   "cell_type": "code",
   "execution_count": 21,
   "id": "910ea6b2-e5d9-4b92-b5ee-33666aa72c4a",
   "metadata": {},
   "outputs": [],
   "source": [
    "df = df.withColumn('성별', when(col('성별') == 'm', 'M').otherwise(col('성별')))"
   ]
  },
  {
   "cell_type": "code",
   "execution_count": 22,
   "id": "ad004b4d-8c98-4f95-9b03-6961a128cf91",
   "metadata": {},
   "outputs": [
    {
     "name": "stderr",
     "output_type": "stream",
     "text": [
      "                                                                                \r"
     ]
    },
    {
     "name": "stdout",
     "output_type": "stream",
     "text": [
      "+----+-------+\n",
      "|성별|     값|\n",
      "+----+-------+\n",
      "|   F|5917315|\n",
      "|null|      0|\n",
      "|   f|   1265|\n",
      "|   M|9395340|\n",
      "|  ₩N|6325553|\n",
      "+----+-------+\n",
      "\n"
     ]
    }
   ],
   "source": [
    "df.groupby(\"성별\").agg( count(\"성별\").alias(\"값\")).show()"
   ]
  },
  {
   "cell_type": "code",
   "execution_count": 24,
   "id": "a755f869-9731-4117-92e6-e5b9fdea3032",
   "metadata": {},
   "outputs": [],
   "source": [
    "df = df.withColumn('성별', when(col('성별') == 'f', 'F').otherwise(col('성별')))\n",
    "# f라면 F로 바꾸고 그렇지 않다면 원래 값 그대로 유지 "
   ]
  },
  {
   "cell_type": "code",
   "execution_count": 26,
   "id": "880c440e-05f3-4dbc-892d-488df4b22a6e",
   "metadata": {},
   "outputs": [
    {
     "name": "stderr",
     "output_type": "stream",
     "text": [
      "                                                                                \r"
     ]
    },
    {
     "name": "stdout",
     "output_type": "stream",
     "text": [
      "+----+-------+\n",
      "|성별|     값|\n",
      "+----+-------+\n",
      "|   F|5918580|\n",
      "|null|      0|\n",
      "|   M|9395340|\n",
      "|  ₩N|6325553|\n",
      "+----+-------+\n",
      "\n"
     ]
    }
   ],
   "source": [
    "df.groupby(\"성별\").agg(count(\"성별\").alias(\"값\")).show()"
   ]
  },
  {
   "cell_type": "code",
   "execution_count": null,
   "id": "7f6102b3-bc14-4f1f-a7b2-972f538021e4",
   "metadata": {},
   "outputs": [],
   "source": []
  }
 ],
 "metadata": {
  "kernelspec": {
   "display_name": "Python 3 (ipykernel)",
   "language": "python",
   "name": "python3"
  },
  "language_info": {
   "codemirror_mode": {
    "name": "ipython",
    "version": 3
   },
   "file_extension": ".py",
   "mimetype": "text/x-python",
   "name": "python",
   "nbconvert_exporter": "python",
   "pygments_lexer": "ipython3",
   "version": "3.11.5"
  }
 },
 "nbformat": 4,
 "nbformat_minor": 5
}
